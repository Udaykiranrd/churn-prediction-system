{
 "cells": [
  {
   "cell_type": "code",
   "execution_count": 5,
   "id": "288646c4",
   "metadata": {},
   "outputs": [
    {
     "name": "stdout",
     "output_type": "stream",
     "text": [
      "Requirement already satisfied: xgboost in c:\\users\\g uday kiran reddy\\anaconda3\\lib\\site-packages (3.0.2)\n",
      "Requirement already satisfied: numpy in c:\\users\\g uday kiran reddy\\anaconda3\\lib\\site-packages (from xgboost) (1.24.3)\n",
      "Requirement already satisfied: scipy in c:\\users\\g uday kiran reddy\\anaconda3\\lib\\site-packages (from xgboost) (1.11.1)\n"
     ]
    }
   ],
   "source": [
    "!pip install xgboost"
   ]
  },
  {
   "cell_type": "code",
   "execution_count": 6,
   "id": "24a0c946",
   "metadata": {},
   "outputs": [],
   "source": [
    "import pandas as pd\n",
    "import numpy as np\n",
    "from sklearn.model_selection import train_test_split\n",
    "from sklearn.preprocessing import OneHotEncoder\n",
    "from sklearn.compose import ColumnTransformer\n",
    "from sklearn.pipeline import Pipeline\n",
    "from sklearn.metrics import roc_auc_score, classification_report, confusion_matrix\n",
    "import xgboost as xgb\n",
    "import joblib\n",
    "\n",
    "# A tiny pool of fictional retention agents\n",
    "AGENTS = [\"Aditi Sharma\", \"Rahul Singh\", \"Meera Iyer\",\n",
    "          \"Santosh Rao\", \"Kunal Desai\", \"Anita Paul\"]"
   ]
  },
  {
   "cell_type": "code",
   "execution_count": 41,
   "id": "8832cb5a",
   "metadata": {},
   "outputs": [
    {
     "name": "stdout",
     "output_type": "stream",
     "text": [
      "<class 'pandas.core.frame.DataFrame'>\n",
      "RangeIndex: 10000 entries, 0 to 9999\n",
      "Data columns (total 13 columns):\n",
      " #   Column                       Non-Null Count  Dtype  \n",
      "---  ------                       --------------  -----  \n",
      " 0   CustomerID                   10000 non-null  object \n",
      " 1   Gender                       10000 non-null  object \n",
      " 2   Age                          10000 non-null  int64  \n",
      " 3   Tenure_Years                 10000 non-null  int64  \n",
      " 4   Policy_Type                  10000 non-null  object \n",
      " 5   Annual_Premium               10000 non-null  int64  \n",
      " 6   No_of_Claims                 10000 non-null  int64  \n",
      " 7   Complaint_Registered         10000 non-null  object \n",
      " 8   Satisfaction_Score           10000 non-null  int64  \n",
      " 9   Website_Usage_Per_Week       10000 non-null  int64  \n",
      " 10  Last_Premium_Change_Percent  10000 non-null  float64\n",
      " 11  Competitor_Price_Comparison  10000 non-null  int64  \n",
      " 12  Churn_Score_Percentage       10000 non-null  float64\n",
      "dtypes: float64(2), int64(7), object(4)\n",
      "memory usage: 1015.8+ KB\n"
     ]
    }
   ],
   "source": [
    "df = pd.read_csv(\"C:/Users/G Uday Kiran Reddy/apps/Downloads/synthetic_insurance_churn_dataset.csv\")\n",
    "df.head()\n",
    "df.info()"
   ]
  },
  {
   "cell_type": "code",
   "execution_count": 42,
   "id": "f867251f",
   "metadata": {},
   "outputs": [],
   "source": [
    "df['Churned'] = (df['Churn_Score_Percentage'] >= 50).astype(int)\n",
    "\n",
    "# Feature / target split\n",
    "X = df.drop(['CustomerID', 'Churn_Score_Percentage', 'Churned'], axis=1)\n",
    "y = df['Churned']\n",
    "\n",
    "# Identify categorical+numeric cols\n",
    "cat_cols = X.select_dtypes(include=['object']).columns.tolist()\n",
    "num_cols = X.select_dtypes(exclude=['object']).columns.tolist()\n",
    "\n",
    "# Pre‑processing pipeline\n",
    "preprocess = ColumnTransformer(\n",
    "    transformers=[\n",
    "        ('cat', OneHotEncoder(handle_unknown='ignore'), cat_cols),\n",
    "        ('num', 'passthrough', num_cols)\n",
    "    ])\n",
    "\n",
    "# Train / test split\n",
    "X_train, X_test, y_train, y_test = train_test_split(\n",
    "    X, y, test_size=0.2, random_state=42, stratify=y)"
   ]
  },
  {
   "cell_type": "code",
   "execution_count": 43,
   "id": "462d1222",
   "metadata": {},
   "outputs": [
    {
     "name": "stdout",
     "output_type": "stream",
     "text": [
      "AUC: 0.9325249495069503\n",
      "              precision    recall  f1-score   support\n",
      "\n",
      "           0       0.94      0.97      0.96      1772\n",
      "           1       0.70      0.53      0.60       228\n",
      "\n",
      "    accuracy                           0.92      2000\n",
      "   macro avg       0.82      0.75      0.78      2000\n",
      "weighted avg       0.91      0.92      0.92      2000\n",
      "\n"
     ]
    }
   ],
   "source": [
    "clf = xgb.XGBClassifier(\n",
    "    n_estimators=300, learning_rate=0.05,\n",
    "    max_depth=5, subsample=0.8, colsample_bytree=0.8,\n",
    "    objective='binary:logistic', eval_metric='auc', random_state=42)\n",
    "\n",
    "model = Pipeline(steps=[('prep', preprocess),\n",
    "                       ('xgb', clf)])\n",
    "\n",
    "model.fit(X_train, y_train)\n",
    "\n",
    "# Evaluation\n",
    "pred_proba = model.predict_proba(X_test)[:, 1]\n",
    "pred = (pred_proba >= 0.5).astype(int)\n",
    "print(\"AUC:\", roc_auc_score(y_test, pred_proba))\n",
    "print(classification_report(y_test, pred))\n"
   ]
  },
  {
   "cell_type": "code",
   "execution_count": 44,
   "id": "00c5cf14",
   "metadata": {},
   "outputs": [
    {
     "data": {
      "text/plain": [
       "['models/churn_classifier_xgb.pkl']"
      ]
     },
     "execution_count": 44,
     "metadata": {},
     "output_type": "execute_result"
    }
   ],
   "source": [
    "joblib.dump(model, \"models/churn_classifier_xgb.pkl\")"
   ]
  },
  {
   "cell_type": "code",
   "execution_count": 59,
   "id": "8be2a791",
   "metadata": {},
   "outputs": [],
   "source": [
    "df['Predicted_Churn_Prob'] = model.predict_proba(X)[:, 1]  # 0‑1\n",
    "df['Predicted_Churn_%']   = (df['Predicted_Churn_Prob'] * 100).round(2)"
   ]
  },
  {
   "cell_type": "code",
   "execution_count": 60,
   "id": "00d5ebf8",
   "metadata": {},
   "outputs": [],
   "source": [
    "def classify_status(row):\n",
    "    \"\"\"Return one of: 'Already_Left', 'Likely_to_Leave', 'Stable'.\"\"\"\n",
    "    if row['Churned'] == 1:\n",
    "        return 'Already_Left'\n",
    "    if row['Predicted_Churn_%'] >= 0.70:\n",
    "        return 'Likely_to_Leave'\n",
    "    return 'Stable'\n",
    "\n",
    "df['Status'] = df.apply(classify_status, axis=1)\n",
    "\n",
    "# Round‑robin agent assignment\n",
    "df['Retention_Agent'] = [AGENTS[i % len(AGENTS)] for i in range(len(df))]\n",
    "\n",
    "# Action rules\n",
    "def action_plan(row):\n",
    "    if row['Status'] == 'Already_Left':\n",
    "        return \"Win‑back call by agent {0} + 25% discount on re‑joining Premium plan\".format(row['Retention_Agent'])\n",
    "    elif row['Status'] == 'Likely_to_Leave':\n",
    "        tenure = row['Tenure_Years']\n",
    "        if tenure >= 5:\n",
    "            return \"Email + phone call from {0}: offer 15% loyalty discount, free roadside assist add‑on\".format(row['Retention_Agent'])\n",
    "        else:\n",
    "            return \"Proactive email: upgrade to Standard with 10% discount\".format(row['Retention_Agent'])\n",
    "    else:\n",
    "        return \"Thank‑you email with wellness gift voucher\"\n",
    "\n",
    "df['Recommended_Action'] = df.apply(action_plan, axis=1)"
   ]
  },
  {
   "cell_type": "code",
   "execution_count": 61,
   "id": "bd0b726a",
   "metadata": {},
   "outputs": [
    {
     "name": "stdout",
     "output_type": "stream",
     "text": [
      "Campaign file saved to: output/campaign_plan.csv\n"
     ]
    }
   ],
   "source": [
    "campaign_cols = ['CustomerID', 'Status', 'Predicted_Churn_%',\n",
    "                 'Retention_Agent', 'Recommended_Action']\n",
    "out_path = \"output/campaign_plan.csv\"\n",
    "df[campaign_cols].to_csv(out_path, index=False)\n",
    "print(\"Campaign file saved to:\", out_path)"
   ]
  },
  {
   "cell_type": "code",
   "execution_count": 62,
   "id": "bb30a120",
   "metadata": {},
   "outputs": [
    {
     "data": {
      "image/png": "[encoded data removed]",
      "text/plain": [
       "<Figure size 640x480 with 1 Axes>"
      ]
     },
     "metadata": {},
     "output_type": "display_data"
    },
    {
     "data": {
      "image/png": "[encoded data removed]",
      "text/plain": [
       "<Figure size 640x480 with 1 Axes>"
      ]
     },
     "metadata": {},
     "output_type": "display_data"
    }
   ],
   "source": [
    "import matplotlib.pyplot as plt\n",
    "\n",
    "# Distribution of predicted churn %\n",
    "df['Predicted_Churn_%'].hist(bins=30)\n",
    "plt.title(\"Predicted Churn Probability (%)\")\n",
    "plt.show()\n",
    "\n",
    "# Count per status\n",
    "df['Status'].value_counts().plot(kind='bar')\n",
    "plt.title(\"Customer Status Segmentation\")\n",
    "plt.show()"
   ]
  },
  {
   "cell_type": "code",
   "execution_count": null,
   "id": "ce99bad6",
   "metadata": {},
   "outputs": [],
   "source": []
  }
 ],
 "metadata": {
  "kernelspec": {
   "display_name": "Python 3 (ipykernel)",
   "language": "python",
   "name": "python3"
  },
  "language_info": {
   "codemirror_mode": {
    "name": "ipython",
    "version": 3
   },
   "file_extension": ".py",
   "mimetype": "text/x-python",
   "name": "python",
   "nbconvert_exporter": "python",
   "pygments_lexer": "ipython3",
   "version": "3.11.5"
  }
 },
 "nbformat": 4,
 "nbformat_minor": 5
}
